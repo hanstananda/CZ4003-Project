{
 "cells": [
  {
   "cell_type": "code",
   "execution_count": 3,
   "metadata": {
    "collapsed": true
   },
   "outputs": [],
   "source": [
    "import cv2 as cv\n",
    "import numpy\n",
    "from PIL import Image\n",
    "import pytesseract\n",
    "import difflib\n",
    "import os"
   ]
  },
  {
   "cell_type": "code",
   "execution_count": 2,
   "outputs": [],
   "source": [
    "image_folder = \"./images\"\n",
    "text_folder = \"./source\"\n",
    "images = [\"sample01.png\", \"sample02.png\"]\n",
    "texts = [\"sample01.txt\", \"sample02.txt\"]"
   ],
   "metadata": {
    "collapsed": false,
    "pycharm": {
     "name": "#%%\n"
    }
   }
  },
  {
   "cell_type": "code",
   "execution_count": 58,
   "outputs": [],
   "source": [
    "def evaluate(actual, expected, print_score=True):\n",
    "    s = difflib.SequenceMatcher(None, actual, expected)\n",
    "    if print_score:\n",
    "        print(\"{:.5f}\".format(s.ratio()))\n",
    "    # print(s.get_matching_blocks())\n",
    "    return s.ratio()"
   ],
   "metadata": {
    "collapsed": false,
    "pycharm": {
     "name": "#%%\n"
    }
   }
  },
  {
   "cell_type": "markdown",
   "source": [
    "# Base Image with OCR"
   ],
   "metadata": {
    "collapsed": false
   }
  },
  {
   "cell_type": "code",
   "execution_count": 39,
   "outputs": [
    {
     "name": "stdout",
     "output_type": "stream",
     "text": [
      "PNG RGBA\n",
      "Parking: You may park anywhere on the ce\n",
      "king. Keep in mind the carpool hours and park\n",
      "afternoon\n",
      "\n",
      "Under School Age Children:While we love\n",
      "inappropriate to have them on campus @ )\n",
      "that they may be invited or can accompany :\n",
      "you adhere to our _ policy for the benefit of\n",
      "\n",
      " \n",
      "\f\n",
      "0.42293\n",
      "PNG LA\n",
      "Sonnet for Lena\n",
      "\n",
      " \n",
      "\f\n",
      "0.05207\n"
     ]
    }
   ],
   "source": [
    "for idx, image_name in enumerate(images):\n",
    "    image = Image.open(os.path.join(image_folder, image_name))\n",
    "    print(image.format, image.mode)\n",
    "    image = image.convert(\"RGB\")\n",
    "    result = pytesseract.image_to_string(image)\n",
    "\n",
    "    with open(os.path.join(text_folder, texts[idx]), 'r') as f:\n",
    "            base_text = f.readlines()\n",
    "            base_text = \"\".join(base_text)\n",
    "            # base_text = [line.strip() for line in base_text]\n",
    "\n",
    "    print(result)\n",
    "    evaluate(result, base_text)"
   ],
   "metadata": {
    "collapsed": false,
    "pycharm": {
     "name": "#%%\n"
    }
   }
  },
  {
   "cell_type": "code",
   "execution_count": 34,
   "outputs": [],
   "source": [
    "def otsu_thresholding(image_pil):\n",
    "    img_cv = cv.cvtColor(numpy.array(image_pil), cv.COLOR_RGB2GRAY)\n",
    "    # Otsu's thresholding\n",
    "    ret, th = cv.threshold(img_cv, 0, 255, cv.THRESH_BINARY + cv.THRESH_OTSU)\n",
    "    img_th_rgb = cv.cvtColor(th, cv.COLOR_GRAY2RGB)\n",
    "    img_th_pil = Image.fromarray(img_th_rgb)\n",
    "    # img_th_pil.show()\n",
    "    return img_th_pil"
   ],
   "metadata": {
    "collapsed": false,
    "pycharm": {
     "name": "#%%\n"
    }
   }
  },
  {
   "cell_type": "markdown",
   "source": [
    "# Otsu thresholding"
   ],
   "metadata": {
    "collapsed": false
   }
  },
  {
   "cell_type": "code",
   "execution_count": 42,
   "outputs": [
    {
     "name": "stdout",
     "output_type": "stream",
     "text": [
      "[  0 255]\n",
      "0.41019\n",
      "[  0 255]\n",
      "0.03374\n"
     ]
    }
   ],
   "source": [
    "for idx, image_name in enumerate(images):\n",
    "    image = Image.open(os.path.join(image_folder, image_name))\n",
    "    # print(image.format, image.mode)\n",
    "    image = image.convert(\"RGB\")\n",
    "\n",
    "    with open(os.path.join(text_folder, texts[idx]), 'r') as f:\n",
    "            base_text = f.readlines()\n",
    "            base_text = \"\".join(base_text)\n",
    "            # base_text = [line.strip() for line in base_text]\n",
    "\n",
    "    image_th = otsu_thresholding(image)\n",
    "    result_th = pytesseract.image_to_string(image_th)\n",
    "    image_th.show()\n",
    "\n",
    "    evaluate(result_th, base_text)"
   ],
   "metadata": {
    "collapsed": false,
    "pycharm": {
     "name": "#%%\n"
    }
   }
  },
  {
   "cell_type": "code",
   "execution_count": 37,
   "outputs": [],
   "source": [
    "def adaptive_gaussian_tresholding(image_pil):\n",
    "    img_cv = cv.cvtColor(numpy.array(image_pil), cv.COLOR_RGB2GRAY)\n",
    "    th = cv.adaptiveThreshold(img_cv, 255, cv.ADAPTIVE_THRESH_GAUSSIAN_C, \\\n",
    "                              cv.THRESH_BINARY, 11, 2)\n",
    "    img_th_rgb = cv.cvtColor(th, cv.COLOR_GRAY2RGB)\n",
    "    img_th_pil = Image.fromarray(img_th_rgb)\n",
    "    # img_th_pil.show()\n",
    "    return img_th_pil"
   ],
   "metadata": {
    "collapsed": false,
    "pycharm": {
     "name": "#%%\n"
    }
   }
  },
  {
   "cell_type": "markdown",
   "source": [
    "# Adaptive Gaussian"
   ],
   "metadata": {
    "collapsed": false,
    "pycharm": {
     "name": "#%% md\n"
    }
   }
  },
  {
   "cell_type": "code",
   "execution_count": null,
   "outputs": [],
   "source": [
    "for idx, image_name in enumerate(images):\n",
    "    image = Image.open(os.path.join(image_folder, image_name))\n",
    "    # print(image.format, image.mode)\n",
    "    image = image.convert(\"RGB\")\n",
    "\n",
    "    with open(os.path.join(text_folder, texts[idx]), 'r') as f:\n",
    "            base_text = f.readlines()\n",
    "            base_text = \"\".join(base_text)\n",
    "            # base_text = [line.strip() for line in base_text]\n",
    "\n",
    "    image_adaptive_gaussian = adaptive_gaussian_tresholding(image)\n",
    "    # image_adaptive_gaussian.show()\n",
    "    result_adaptive_gaussian = pytesseract.image_to_string(image_adaptive_gaussian)\n",
    "    print(result_adaptive_gaussian)\n",
    "\n",
    "    print(\"Adaptive gaussian:\")\n",
    "    evaluate(result_adaptive_gaussian, base_text)"
   ],
   "metadata": {
    "collapsed": false,
    "pycharm": {
     "name": "#%%\n"
    }
   }
  },
  {
   "cell_type": "code",
   "execution_count": 55,
   "outputs": [],
   "source": [
    "def apply_gaussian_blur(image_pil, kernel_size=(5, 5)):\n",
    "    img_cv = cv.cvtColor(numpy.array(image_pil), cv.COLOR_RGB2BGR)\n",
    "    img_blur = cv.GaussianBlur(img_cv, kernel_size, 0)\n",
    "    img_cv_rgb = cv.cvtColor(img_blur, cv.COLOR_BGR2RGB)\n",
    "    img_pil = Image.fromarray(img_cv_rgb)\n",
    "    return img_pil\n"
   ],
   "metadata": {
    "collapsed": false,
    "pycharm": {
     "name": "#%%\n"
    }
   }
  },
  {
   "cell_type": "markdown",
   "source": [
    "# Gaussian Blur + Adaptive Gaussian Thresholding"
   ],
   "metadata": {
    "collapsed": false,
    "pycharm": {
     "name": "#%% md\n"
    }
   }
  },
  {
   "cell_type": "code",
   "execution_count": 62,
   "outputs": [
    {
     "name": "stdout",
     "output_type": "stream",
     "text": [
      "Gaussian blur (3,3) + Adaptive gaussian for sample01.png score: 0.00000\n",
      "Gaussian blur (3,3) + Adaptive gaussian for sample02.png score: 0.35653\n",
      "Gaussian blur (5,5) + Adaptive gaussian for sample01.png score: 0.87978\n",
      "Gaussian blur (5,5) + Adaptive gaussian for sample02.png score: 0.46845\n",
      "Gaussian blur (7,7) + Adaptive gaussian for sample01.png score: 0.92692\n",
      "Gaussian blur (7,7) + Adaptive gaussian for sample02.png score: 0.20173\n",
      "Gaussian blur (9,9) + Adaptive gaussian for sample01.png score: 0.46169\n",
      "Gaussian blur (9,9) + Adaptive gaussian for sample02.png score: 0.14229\n"
     ]
    }
   ],
   "source": [
    "for kernel_size in range(3,11,2):\n",
    "    for idx, image_name in enumerate(images):\n",
    "        image = Image.open(os.path.join(image_folder, image_name))\n",
    "        # print(image.format, image.mode)\n",
    "        image = image.convert(\"RGB\")\n",
    "\n",
    "        with open(os.path.join(text_folder, texts[idx]), 'r') as f:\n",
    "                base_text = f.readlines()\n",
    "                base_text = \"\".join(base_text)\n",
    "                # base_text = [line.strip() for line in base_text]\n",
    "\n",
    "        image_gaussian_blur = apply_gaussian_blur(image,(kernel_size, kernel_size))\n",
    "        image_adaptive_gaussian = adaptive_gaussian_tresholding(image_gaussian_blur)\n",
    "        # image_adaptive_gaussian.show()\n",
    "        result_adaptive_gaussian = pytesseract.image_to_string(image_adaptive_gaussian)\n",
    "        score = evaluate(result_adaptive_gaussian, base_text, print_score=False)\n",
    "        print(f\"Gaussian blur ({kernel_size},{kernel_size}) + Adaptive gaussian for {image_name} score: {score:.5f}\")\n"
   ],
   "metadata": {
    "collapsed": false,
    "pycharm": {
     "name": "#%%\n"
    }
   }
  },
  {
   "cell_type": "code",
   "execution_count": 63,
   "outputs": [
    {
     "name": "stdout",
     "output_type": "stream",
     "text": [
      "Gaussian blur (5,5) + Adaptive gaussian for sample01.png score: 0.87978\n",
      " \n",
      "\n",
      "Parking: You may park anywhere on the campus where there are no ‘signs prohibiting par\n",
      "king. Keep in mind the carpool hours and park accordingly so you do not get blocked In the ©\n",
      ". afternoon te tet get eae ULL ese Soy\n",
      "\n",
      " \n",
      "\n",
      "    \n",
      "\n",
      "Under School Age Children:While we love the younger children, it can be disruptive and\n",
      "inappropriate to have them on campus during ‘school hours.. There may be special times .:.\n",
      "that they may be invited or can accompany a parent volunteer, but otherwise we ask that -\n",
      "you adhere to our policy for the benefit of the students and staff; 0. - eet\n",
      "\n",
      " \n",
      "\n",
      "   \n",
      "\f\n",
      "Gaussian blur (5,5) + Adaptive gaussian for sample02.png score: 0.46845\n",
      "Sonnet for Lena\n",
      "\n",
      "O dear Lena, your beatty fa sa vast\n",
      "\n",
      "Tels hard sometiines to describe [t fant.\n",
      "\n",
      "I thought the entire world [ would impress\n",
      "If only your portrait [ could compress.\n",
      "\n",
      "Alas! First when I tried to tise VQ\n",
      "\n",
      "1 found that your checks belong te only you.\n",
      "Your silky hair contains n thousand lines\n",
      "Hard to match with sums of discrete cosines,\n",
      "And for your lips, sensual and tactual\n",
      "Thirteen Cray found not the proper fractal,\n",
      "And while these setbacks are all quite severe\n",
      "Limight have fixed thein with hacks here or there\n",
      "Bat whe filters took sparkle from your eyes\n",
      "Taaid, ‘Damn all this, PM just digitize.”\n",
      "\n",
      "Thowsas Colthurat\n",
      "\f\n",
      "Gaussian blur (7,7) + Adaptive gaussian for sample01.png score: 0.92692\n",
      "Parking: You may park anywhere on the campus where there are no signs prohibiting par-\n",
      "king. Keep In mind the carpool hours and park accordingly so you do not get blocked in the\n",
      "afternoon : my bees\n",
      "\n",
      "Under School Age Children While we love the younger children, it can be disruptive and\n",
      "inappropriate to have them on campus during school hours. There may be special times.\n",
      "that they may be invited of can accompany a parent volunteer, but otherwise we ask that\n",
      "you adhere toour policy for the benefit of the students and staff.\n",
      "\f\n",
      "Gaussian blur (7,7) + Adaptive gaussian for sample02.png score: 0.20173\n",
      "Sonnet for Lena\n",
      "\n",
      "O dear Lena, your beanty bs so vast\n",
      "\n",
      "Te Is hard sumnetines to ulescribe It Laat.\n",
      "\n",
      "I thought the entire work! | woukd imprear\n",
      "If only your portrait [ coukl compress.\n",
      "\n",
      "Alas! First when [tried to use VQ\n",
      "\n",
      "[found that yuur cheeks belong to only you,\n",
      "Your silky hair contains a thousand lines\n",
      "Hard to match with autne of discrete cosines,\n",
      "And for your lips, sensual and tactual\n",
      "Thirteen Crays found not the proper fractal.\n",
      "Atel while these scthocks are all quite severe\n",
      "Tinight have fixed them with hacks here of Ghete\n",
      "But when filters look aparkle from your eyes\n",
      "Paaid, Damn all this, PU fust digitize.”\n",
      "\n",
      "Thovins Coltharet\n",
      "\f\n"
     ]
    }
   ],
   "source": [
    "for kernel_size in range(5,8,2):\n",
    "    for idx, image_name in enumerate(images):\n",
    "        image = Image.open(os.path.join(image_folder, image_name))\n",
    "        # print(image.format, image.mode)\n",
    "        image = image.convert(\"RGB\")\n",
    "\n",
    "        with open(os.path.join(text_folder, texts[idx]), 'r') as f:\n",
    "                base_text = f.readlines()\n",
    "                base_text = \"\".join(base_text)\n",
    "                # base_text = [line.strip() for line in base_text]\n",
    "\n",
    "        image_gaussian_blur = apply_gaussian_blur(image,(kernel_size, kernel_size))\n",
    "        image_adaptive_gaussian = adaptive_gaussian_tresholding(image_gaussian_blur)\n",
    "        image_adaptive_gaussian.show()\n",
    "        result_adaptive_gaussian = pytesseract.image_to_string(image_adaptive_gaussian)\n",
    "        score = evaluate(result_adaptive_gaussian, base_text, print_score=False)\n",
    "        print(f\"Gaussian blur ({kernel_size},{kernel_size}) + Adaptive gaussian for {image_name} score: {score:.5f}\")\n",
    "        print(result_adaptive_gaussian)"
   ],
   "metadata": {
    "collapsed": false,
    "pycharm": {
     "name": "#%%\n"
    }
   }
  },
  {
   "cell_type": "code",
   "execution_count": 67,
   "outputs": [],
   "source": [
    "def bilateral_filter(image_pil, d=9, sigma_color=100, sigma_space=100):\n",
    "    img_cv = cv.cvtColor(numpy.array(image_pil), cv.COLOR_RGB2BGR)\n",
    "    img_blur = cv.bilateralFilter(img_cv, d=d, sigmaColor=sigma_color, sigmaSpace=sigma_space)\n",
    "    img_cv_rgb = cv.cvtColor(img_blur, cv.COLOR_BGR2RGB)\n",
    "    img_pil = Image.fromarray(img_cv_rgb)\n",
    "    return img_pil"
   ],
   "metadata": {
    "collapsed": false,
    "pycharm": {
     "name": "#%%\n"
    }
   }
  },
  {
   "cell_type": "markdown",
   "source": [
    "# Bilateral Filter + Adaptive Gaussian Thresholding\n"
   ],
   "metadata": {
    "collapsed": false
   }
  },
  {
   "cell_type": "code",
   "execution_count": 74,
   "outputs": [
    {
     "name": "stdout",
     "output_type": "stream",
     "text": [
      "Bilateral Filter d=5 sigma=50 with ADT for sample01.png score: 0.58845\n",
      "Bilateral Filter d=5 sigma=50 with ADT for sample02.png score: 0.08819\n",
      "Bilateral Filter d=5 sigma=100 with ADT for sample01.png score: 0.56747\n",
      "Bilateral Filter d=5 sigma=100 with ADT for sample02.png score: 0.34597\n",
      "Bilateral Filter d=5 sigma=150 with ADT for sample01.png score: 0.56825\n",
      "Bilateral Filter d=5 sigma=150 with ADT for sample02.png score: 0.26224\n",
      "Bilateral Filter d=5 sigma=200 with ADT for sample01.png score: 0.51197\n",
      "Bilateral Filter d=5 sigma=200 with ADT for sample02.png score: 0.27738\n",
      "Bilateral Filter d=7 sigma=50 with ADT for sample01.png score: 0.98651\n",
      "Bilateral Filter d=7 sigma=50 with ADT for sample02.png score: 0.31445\n",
      "Bilateral Filter d=7 sigma=100 with ADT for sample01.png score: 0.98554\n",
      "Bilateral Filter d=7 sigma=100 with ADT for sample02.png score: 0.27208\n",
      "Bilateral Filter d=7 sigma=150 with ADT for sample01.png score: 0.78454\n",
      "Bilateral Filter d=7 sigma=150 with ADT for sample02.png score: 0.21514\n",
      "Bilateral Filter d=7 sigma=200 with ADT for sample01.png score: 0.24806\n",
      "Bilateral Filter d=7 sigma=200 with ADT for sample02.png score: 0.09373\n",
      "Bilateral Filter d=9 sigma=50 with ADT for sample01.png score: 0.99225\n",
      "Bilateral Filter d=9 sigma=50 with ADT for sample02.png score: 0.26038\n",
      "Bilateral Filter d=9 sigma=100 with ADT for sample01.png score: 0.98643\n",
      "Bilateral Filter d=9 sigma=100 with ADT for sample02.png score: 0.09184\n",
      "Bilateral Filter d=9 sigma=150 with ADT for sample01.png score: 0.86940\n",
      "Bilateral Filter d=9 sigma=150 with ADT for sample02.png score: 0.05864\n",
      "Bilateral Filter d=9 sigma=200 with ADT for sample01.png score: 0.69676\n",
      "Bilateral Filter d=9 sigma=200 with ADT for sample02.png score: 0.08293\n",
      "Bilateral Filter d=11 sigma=50 with ADT for sample01.png score: 0.99225\n",
      "Bilateral Filter d=11 sigma=50 with ADT for sample02.png score: 0.09680\n",
      "Bilateral Filter d=11 sigma=100 with ADT for sample01.png score: 0.56977\n",
      "Bilateral Filter d=11 sigma=100 with ADT for sample02.png score: 0.10183\n",
      "Bilateral Filter d=11 sigma=150 with ADT for sample01.png score: 0.84961\n",
      "Bilateral Filter d=11 sigma=150 with ADT for sample02.png score: 0.03531\n",
      "Bilateral Filter d=11 sigma=200 with ADT for sample01.png score: 0.67780\n",
      "Bilateral Filter d=11 sigma=200 with ADT for sample02.png score: 0.04430\n"
     ]
    }
   ],
   "source": [
    "for d in range(5,12,2):\n",
    "    for sigma in range(50,210,50):\n",
    "        for idx, image_name in enumerate(images):\n",
    "            image = Image.open(os.path.join(image_folder, image_name))\n",
    "            # print(image.format, image.mode)\n",
    "            image = image.convert(\"RGB\")\n",
    "\n",
    "            with open(os.path.join(text_folder, texts[idx]), 'r') as f:\n",
    "                    base_text = f.readlines()\n",
    "                    base_text = \"\".join(base_text)\n",
    "                    # base_text = [line.strip() for line in base_text]\n",
    "\n",
    "            image_bilateral_filter = bilateral_filter(image,d=d, sigma_color=sigma, sigma_space=sigma)\n",
    "            image_adaptive_gaussian = adaptive_gaussian_tresholding(image_bilateral_filter)\n",
    "            # image_adaptive_gaussian.show()\n",
    "            result_adaptive_gaussian = pytesseract.image_to_string(image_adaptive_gaussian)\n",
    "            score = evaluate(result_adaptive_gaussian, base_text, print_score=False)\n",
    "            print(f\"Bilateral Filter d={d} sigma={sigma} with AGT for {image_name} score: {score:.5f}\")\n",
    "            # print(result_adaptive_gaussian)"
   ],
   "metadata": {
    "collapsed": false,
    "pycharm": {
     "name": "#%%\n"
    }
   }
  },
  {
   "cell_type": "code",
   "execution_count": 79,
   "outputs": [
    {
     "name": "stdout",
     "output_type": "stream",
     "text": [
      "Bilateral Filter d=3 sigma=10 with AGT for sample02.png score: 0.03360\n",
      "Bilateral Filter d=3 sigma=20 with AGT for sample02.png score: 0.01860\n",
      "Bilateral Filter d=3 sigma=30 with AGT for sample02.png score: 0.09091\n",
      "Bilateral Filter d=3 sigma=40 with AGT for sample02.png score: 0.05786\n",
      "Bilateral Filter d=3 sigma=50 with AGT for sample02.png score: 0.05901\n",
      "Bilateral Filter d=3 sigma=60 with AGT for sample02.png score: 0.05919\n",
      "Bilateral Filter d=3 sigma=70 with AGT for sample02.png score: 0.18182\n",
      "Bilateral Filter d=3 sigma=80 with AGT for sample02.png score: 0.04219\n",
      "Bilateral Filter d=3 sigma=90 with AGT for sample02.png score: 0.42155\n",
      "Bilateral Filter d=3 sigma=100 with AGT for sample02.png score: 0.03897\n",
      "Bilateral Filter d=3 sigma=110 with AGT for sample02.png score: 0.04514\n",
      "Bilateral Filter d=3 sigma=120 with AGT for sample02.png score: 0.32682\n",
      "Bilateral Filter d=3 sigma=130 with AGT for sample02.png score: 0.33437\n",
      "Bilateral Filter d=3 sigma=140 with AGT for sample02.png score: 0.32631\n",
      "Bilateral Filter d=3 sigma=150 with AGT for sample02.png score: 0.19828\n",
      "Bilateral Filter d=4 sigma=10 with AGT for sample02.png score: 0.05665\n",
      "Bilateral Filter d=4 sigma=20 with AGT for sample02.png score: 0.07723\n",
      "Bilateral Filter d=4 sigma=30 with AGT for sample02.png score: 0.26908\n",
      "Bilateral Filter d=4 sigma=40 with AGT for sample02.png score: 0.10892\n",
      "Bilateral Filter d=4 sigma=50 with AGT for sample02.png score: 0.08819\n",
      "Bilateral Filter d=4 sigma=60 with AGT for sample02.png score: 0.09170\n",
      "Bilateral Filter d=4 sigma=70 with AGT for sample02.png score: 0.39528\n",
      "Bilateral Filter d=4 sigma=80 with AGT for sample02.png score: 0.40379\n",
      "Bilateral Filter d=4 sigma=90 with AGT for sample02.png score: 0.33727\n",
      "Bilateral Filter d=4 sigma=100 with AGT for sample02.png score: 0.34597\n",
      "Bilateral Filter d=4 sigma=110 with AGT for sample02.png score: 0.36392\n",
      "Bilateral Filter d=4 sigma=120 with AGT for sample02.png score: 0.10585\n",
      "Bilateral Filter d=4 sigma=130 with AGT for sample02.png score: 0.25750\n",
      "Bilateral Filter d=4 sigma=140 with AGT for sample02.png score: 0.26582\n",
      "Bilateral Filter d=4 sigma=150 with AGT for sample02.png score: 0.26224\n",
      "Bilateral Filter d=5 sigma=10 with AGT for sample02.png score: 0.05665\n",
      "Bilateral Filter d=5 sigma=20 with AGT for sample02.png score: 0.07723\n",
      "Bilateral Filter d=5 sigma=30 with AGT for sample02.png score: 0.26908\n",
      "Bilateral Filter d=5 sigma=40 with AGT for sample02.png score: 0.10892\n",
      "Bilateral Filter d=5 sigma=50 with AGT for sample02.png score: 0.08819\n",
      "Bilateral Filter d=5 sigma=60 with AGT for sample02.png score: 0.09170\n",
      "Bilateral Filter d=5 sigma=70 with AGT for sample02.png score: 0.39528\n",
      "Bilateral Filter d=5 sigma=80 with AGT for sample02.png score: 0.40379\n",
      "Bilateral Filter d=5 sigma=90 with AGT for sample02.png score: 0.33727\n",
      "Bilateral Filter d=5 sigma=100 with AGT for sample02.png score: 0.34597\n",
      "Bilateral Filter d=5 sigma=110 with AGT for sample02.png score: 0.36392\n",
      "Bilateral Filter d=5 sigma=120 with AGT for sample02.png score: 0.10585\n",
      "Bilateral Filter d=5 sigma=130 with AGT for sample02.png score: 0.25750\n",
      "Bilateral Filter d=5 sigma=140 with AGT for sample02.png score: 0.26582\n",
      "Bilateral Filter d=5 sigma=150 with AGT for sample02.png score: 0.26224\n",
      "Bilateral Filter d=6 sigma=10 with AGT for sample02.png score: 0.07199\n",
      "Bilateral Filter d=6 sigma=20 with AGT for sample02.png score: 0.11345\n",
      "Bilateral Filter d=6 sigma=30 with AGT for sample02.png score: 0.19077\n",
      "Bilateral Filter d=6 sigma=40 with AGT for sample02.png score: 0.24006\n",
      "Bilateral Filter d=6 sigma=50 with AGT for sample02.png score: 0.31445\n",
      "Bilateral Filter d=6 sigma=60 with AGT for sample02.png score: 0.32569\n",
      "Bilateral Filter d=6 sigma=70 with AGT for sample02.png score: 0.34810\n",
      "Bilateral Filter d=6 sigma=80 with AGT for sample02.png score: 0.17619\n",
      "Bilateral Filter d=6 sigma=90 with AGT for sample02.png score: 0.19730\n",
      "Bilateral Filter d=6 sigma=100 with AGT for sample02.png score: 0.27208\n",
      "Bilateral Filter d=6 sigma=110 with AGT for sample02.png score: 0.31150\n",
      "Bilateral Filter d=6 sigma=120 with AGT for sample02.png score: 0.25238\n",
      "Bilateral Filter d=6 sigma=130 with AGT for sample02.png score: 0.21691\n",
      "Bilateral Filter d=6 sigma=140 with AGT for sample02.png score: 0.27157\n",
      "Bilateral Filter d=6 sigma=150 with AGT for sample02.png score: 0.21514\n"
     ]
    }
   ],
   "source": [
    "for d in range(3,7,1):\n",
    "    for sigma in range(10,160,10):\n",
    "        for idx, image_name in enumerate(images):\n",
    "            if image_name==\"sample01.png\":\n",
    "                continue\n",
    "            image = Image.open(os.path.join(image_folder, image_name))\n",
    "            # print(image.format, image.mode)\n",
    "            image = image.convert(\"RGB\")\n",
    "\n",
    "            with open(os.path.join(text_folder, texts[idx]), 'r') as f:\n",
    "                    base_text = f.readlines()\n",
    "                    base_text = \"\".join(base_text)\n",
    "                    # base_text = [line.strip() for line in base_text]\n",
    "\n",
    "            image_bilateral_filter = bilateral_filter(image,d=d, sigma_color=sigma, sigma_space=sigma)\n",
    "            image_adaptive_gaussian = adaptive_gaussian_tresholding(image_bilateral_filter)\n",
    "            # image_adaptive_gaussian.show()\n",
    "            result_adaptive_gaussian = pytesseract.image_to_string(image_adaptive_gaussian)\n",
    "            score = evaluate(result_adaptive_gaussian, base_text, print_score=False)\n",
    "            print(f\"Bilateral Filter d={d} sigma={sigma} with AGT for {image_name} score: {score:.5f}\")\n",
    "            # print(result_adaptive_gaussian)"
   ],
   "metadata": {
    "collapsed": false,
    "pycharm": {
     "name": "#%%\n"
    }
   }
  },
  {
   "cell_type": "code",
   "execution_count": 81,
   "outputs": [
    {
     "name": "stdout",
     "output_type": "stream",
     "text": [
      "Bilateral Filter d=9 sigma=100 with AGT for sample01.png score: 0.98643\n",
      "Parking: You may park anywhere on the campus where there are no signs prohibiting par-\n",
      "king. Keep in mind the carpool hours and park accordingly so you do not get blocked in the\n",
      "afternoon\n",
      "\n",
      "Under School Age Children:While we love the younger children, it can be disruptve and\n",
      "inappropriate to have them on campus during school hours. There may be special tenes\n",
      "that they may be invited or can accompany a parent volunteer, but otherwise we ask that\n",
      "you adhere to our —_ policy for the benefit of the students and staff.\n",
      "\f\n",
      "Bilateral Filter d=3 sigma=90 with AGT for sample02.png score: 0.42155\n",
      "é ‘Sonnet for Lena,\n",
      "\n",
      "° dear Lena, your  brcraily inao vot\n",
      "1 Is hard sometitnea to describe It fast.\n",
      "[thought the entire world | would impress\n",
      "\n",
      "~-L Ionly your portrait I could compress.\n",
      "\n",
      "_ Alns! Firat when T tried to use VQ\n",
      "\n",
      "_ Lfound that your cheeks belong to only you.\n",
      "Your silky hair contains m thonsand fines\n",
      "Hard ta match with sums of diserete cosines, |: *\n",
      "And for your lips, sensual and inctual .\n",
      "Thirteen: Crays found nel the proper fractal.\n",
      "And while these setbacks ore all quite severe\n",
      "Linlght love fixed them with lacks bere or there\n",
      "But when filters Look sparkle fro your eyes\n",
      "Vsaid, ‘Dounn oll this. 1'lt just i\n",
      "\n",
      " \n",
      "\n",
      "+ Thomas Calthurat\n",
      "\f\n"
     ]
    }
   ],
   "source": [
    "for idx, image_name in enumerate(images):\n",
    "    if image_name==\"sample01.png\":\n",
    "        d=9\n",
    "        sigma=100\n",
    "    else:\n",
    "        d=3\n",
    "        sigma=90\n",
    "    image = Image.open(os.path.join(image_folder, image_name))\n",
    "    # print(image.format, image.mode)\n",
    "    image = image.convert(\"RGB\")\n",
    "\n",
    "    with open(os.path.join(text_folder, texts[idx]), 'r') as f:\n",
    "            base_text = f.readlines()\n",
    "            base_text = \"\".join(base_text)\n",
    "            # base_text = [line.strip() for line in base_text]\n",
    "\n",
    "    image_bilateral_filter = bilateral_filter(image,d=d, sigma_color=sigma, sigma_space=sigma)\n",
    "    image_adaptive_gaussian = adaptive_gaussian_tresholding(image_bilateral_filter)\n",
    "    image_adaptive_gaussian.show()\n",
    "    result_adaptive_gaussian = pytesseract.image_to_string(image_adaptive_gaussian)\n",
    "    score = evaluate(result_adaptive_gaussian, base_text, print_score=False)\n",
    "    print(f\"Bilateral Filter d={d} sigma={sigma} with AGT for {image_name} score: {score:.5f}\")\n",
    "    print(result_adaptive_gaussian)"
   ],
   "metadata": {
    "collapsed": false,
    "pycharm": {
     "name": "#%%\n"
    }
   }
  }
 ],
 "metadata": {
  "kernelspec": {
   "display_name": "Python 3",
   "language": "python",
   "name": "python3"
  },
  "language_info": {
   "codemirror_mode": {
    "name": "ipython",
    "version": 2
   },
   "file_extension": ".py",
   "mimetype": "text/x-python",
   "name": "python",
   "nbconvert_exporter": "python",
   "pygments_lexer": "ipython2",
   "version": "2.7.6"
  }
 },
 "nbformat": 4,
 "nbformat_minor": 0
}