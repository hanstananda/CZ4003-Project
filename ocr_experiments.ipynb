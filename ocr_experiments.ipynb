{
 "cells": [
  {
   "cell_type": "code",
   "execution_count": 61,
   "metadata": {
    "pycharm": {
     "is_executing": true
    }
   },
   "outputs": [],
   "source": [
    "import cv2 as cv\n",
    "import numpy\n",
    "from PIL import Image\n",
    "import scipy.ndimage\n",
    "import scipy.signal\n",
    "import pytesseract\n",
    "import difflib\n",
    "import os\n",
    "import numpy as np"
   ]
  },
  {
   "cell_type": "code",
   "execution_count": 3,
   "metadata": {
    "pycharm": {
     "name": "#%%\n"
    }
   },
   "outputs": [],
   "source": [
    "image_folder = \"./images\"\n",
    "text_folder = \"./source\"\n",
    "images = [\"sample01.png\", \"sample02.png\"]\n",
    "texts = [\"sample01.txt\", \"sample02.txt\"]"
   ]
  },
  {
   "cell_type": "code",
   "execution_count": 4,
   "metadata": {
    "pycharm": {
     "name": "#%%\n"
    }
   },
   "outputs": [],
   "source": [
    "def evaluate(actual, expected, print_score=True):\n",
    "    s = difflib.SequenceMatcher(None, actual, expected)\n",
    "    if print_score:\n",
    "        print(\"{:.5f}\".format(s.ratio()))\n",
    "    # print(s.get_matching_blocks())\n",
    "    return s.ratio()"
   ]
  },
  {
   "cell_type": "markdown",
   "metadata": {},
   "source": [
    "# Base Image with OCR"
   ]
  },
  {
   "cell_type": "code",
   "execution_count": 5,
   "metadata": {
    "pycharm": {
     "name": "#%%\n"
    }
   },
   "outputs": [
    {
     "name": "stdout",
     "output_type": "stream",
     "text": [
      "PNG RGBA\n",
      "Parking: You may park anywhere on the ce\n",
      "king. Keep in mind the carpool hours and park\n",
      "afternoon\n",
      "\n",
      "Under School Age Children:While we love\n",
      "inappropriate to have them on campus @ )\n",
      "that they may be invited or can accompany :\n",
      "you adhere to our _ policy for the benefit of\n",
      "\n",
      " \n",
      "\f",
      "\n",
      "0.42293\n",
      "PNG LA\n",
      "Sonnet for Lena\n",
      "\n",
      " \n",
      "\f",
      "\n",
      "0.05207\n"
     ]
    }
   ],
   "source": [
    "for idx, image_name in enumerate(images):\n",
    "    image = Image.open(os.path.join(image_folder, image_name))\n",
    "    print(image.format, image.mode)\n",
    "    image = image.convert(\"RGB\")\n",
    "    result = pytesseract.image_to_string(image)\n",
    "\n",
    "    with open(os.path.join(text_folder, texts[idx]), 'r') as f:\n",
    "            base_text = f.readlines()\n",
    "            base_text = \"\".join(base_text)\n",
    "            # base_text = [line.strip() for line in base_text]\n",
    "\n",
    "    print(result)\n",
    "    evaluate(result, base_text)"
   ]
  },
  {
   "cell_type": "code",
   "execution_count": 6,
   "metadata": {
    "pycharm": {
     "name": "#%%\n"
    }
   },
   "outputs": [],
   "source": [
    "def otsu_thresholding(image_pil):\n",
    "    img_cv = cv.cvtColor(numpy.array(image_pil), cv.COLOR_RGB2GRAY)\n",
    "    # Otsu's thresholding\n",
    "    ret, th = cv.threshold(img_cv, 0, 255, cv.THRESH_BINARY + cv.THRESH_OTSU)\n",
    "    img_th_rgb = cv.cvtColor(th, cv.COLOR_GRAY2RGB)\n",
    "    img_th_pil = Image.fromarray(img_th_rgb)\n",
    "    # img_th_pil.show()\n",
    "    return img_th_pil"
   ]
  },
  {
   "cell_type": "code",
   "execution_count": 57,
   "metadata": {},
   "outputs": [],
   "source": [
    "def otsu_thresholding_in(image, max_value=255, is_normalized=False):\n",
    "    # Image must be in grayscale\n",
    "    image_np = np.array(image)\n",
    "    # Set total number of bins in the histogram\n",
    "    bins_num = 256  # Since our image is 8 bits, we used 256 for now\n",
    "    # Get the image histogram\n",
    "    hist, bin_edges = np.histogram(image_np, bins=bins_num)\n",
    "    # Get normalized histogram if it is required\n",
    "    if is_normalized:\n",
    "        hist = np.divide(hist.ravel(), hist.max())\n",
    "    # Calculate centers of bins\n",
    "    bin_mids = (bin_edges[:-1] + bin_edges[1:]) / 2.\n",
    "    # Iterate over all thresholds (indices) and get the probabilities w1(t), w2(t)\n",
    "    weight1 = np.cumsum(hist)\n",
    "    weight2 = np.cumsum(hist[::-1])[::-1]\n",
    "\n",
    "    # Get the class means \\mu0(t)\n",
    "    mean1 = np.cumsum(hist * bin_mids) / weight1\n",
    "    # Get the class means \\mu1(t)\n",
    "    mean2 = (np.cumsum((hist * bin_mids)[::-1]) / weight2[::-1])[::-1]\n",
    "\n",
    "    inter_class_variance = weight1[:-1] * weight2[1:] * (mean1[:-1] - mean2[1:]) ** 2\n",
    "\n",
    "    # Maximize the inter_class_variance function val\n",
    "    index_of_max_val = np.argmax(inter_class_variance)\n",
    "\n",
    "    threshold = bin_mids[:-1][index_of_max_val]\n",
    "    # Set pixels with value less than threshold to 0, otherwise set is as 255\n",
    "    image_result_np = np.where(image_np < threshold, 0, 1)\n",
    "    image_result = Image.fromarray((image_result_np * 255).astype(np.uint8))\n",
    "\n",
    "    return image_result, threshold"
   ]
  },
  {
   "cell_type": "markdown",
   "metadata": {},
   "source": [
    "# Otsu thresholding"
   ]
  },
  {
   "cell_type": "code",
   "execution_count": 38,
   "metadata": {
    "pycharm": {
     "name": "#%%\n"
    }
   },
   "outputs": [
    {
     "name": "stdout",
     "output_type": "stream",
     "text": [
      "0.41019\n",
      "0.03374\n"
     ]
    }
   ],
   "source": [
    "for idx, image_name in enumerate(images):\n",
    "    image = Image.open(os.path.join(image_folder, image_name))\n",
    "    # print(image.format, image.mode)\n",
    "    image = image.convert(\"RGB\")\n",
    "\n",
    "    with open(os.path.join(text_folder, texts[idx]), 'r') as f:\n",
    "            base_text = f.readlines()\n",
    "            base_text = \"\".join(base_text)\n",
    "            # base_text = [line.strip() for line in base_text]\n",
    "\n",
    "    image_th = otsu_thresholding(image)\n",
    "    result_th = pytesseract.image_to_string(image_th)\n",
    "    image_th.show()\n",
    "\n",
    "    evaluate(result_th, base_text)"
   ]
  },
  {
   "cell_type": "markdown",
   "metadata": {},
   "source": [
    "### Self implementation of Otsu thresholding"
   ]
  },
  {
   "cell_type": "code",
   "execution_count": 58,
   "metadata": {},
   "outputs": [
    {
     "name": "stdout",
     "output_type": "stream",
     "text": [
      "Threshold pixel value=125.314453125\n",
      "0.41019\n",
      "Threshold pixel value=141.1875\n",
      "0.03374\n"
     ]
    }
   ],
   "source": [
    "for idx, image_name in enumerate(images):\n",
    "    image = Image.open(os.path.join(image_folder, image_name))\n",
    "    # print(image.format, image.mode)\n",
    "    image = image.convert(\"L\")\n",
    "\n",
    "    with open(os.path.join(text_folder, texts[idx]), 'r') as f:\n",
    "            base_text = f.readlines()\n",
    "            base_text = \"\".join(base_text)\n",
    "            # base_text = [line.strip() for line in base_text]\n",
    "\n",
    "    image_th, thresh = otsu_thresholding_in(image)\n",
    "    print(f\"Threshold pixel value={thresh}\")\n",
    "    image_th.show()\n",
    "    result_th = pytesseract.image_to_string(image_th)\n",
    "    \n",
    "\n",
    "    evaluate(result_th, base_text)"
   ]
  },
  {
   "cell_type": "code",
   "execution_count": 8,
   "metadata": {
    "pycharm": {
     "name": "#%%\n"
    }
   },
   "outputs": [],
   "source": [
    "def adaptive_gaussian_tresholding(image_pil):\n",
    "    img_cv = cv.cvtColor(numpy.array(image_pil), cv.COLOR_RGB2GRAY)\n",
    "    th = cv.adaptiveThreshold(img_cv, 255, cv.ADAPTIVE_THRESH_GAUSSIAN_C, \\\n",
    "                              cv.THRESH_BINARY, 11, 2)\n",
    "    img_th_rgb = cv.cvtColor(th, cv.COLOR_GRAY2RGB)\n",
    "    img_th_pil = Image.fromarray(img_th_rgb)\n",
    "    # img_th_pil.show()\n",
    "    return img_th_pil"
   ]
  },
  {
   "cell_type": "code",
   "execution_count": 129,
   "metadata": {},
   "outputs": [],
   "source": [
    "import scipy.stats\n",
    "# https://stackoverflow.com/questions/29731726/how-to-calculate-a-gaussian-kernel-matrix-efficiently-in-numpy\n",
    "def gaussian_kernel(kernel_size=7, std=1):\n",
    "    gaussian_kernel_1d = scipy.signal.gaussian(kernel_size, std=std).reshape(kernel_size, 1)\n",
    "    # print(gaussian_kernel_1d)\n",
    "    gaussian_kernel_2d = np.outer(gaussian_kernel_1d, gaussian_kernel_1d)\n",
    "    # print(gaussian_kernel_2d)\n",
    "    return gaussian_kernel_2d/gaussian_kernel_2d.sum()\n",
    "\n",
    "# https://www.mathworks.com/matlabcentral/fileexchange/8647-local-adaptive-thresholding\n",
    "# https://homepages.inf.ed.ac.uk/rbf/HIPR2/adpthrsh.htm\n",
    "def adaptive_gaussian_thresholding_in(image, max_value=255, block_size=7, C=0, std=1):\n",
    "    # Image must be in grayscale\n",
    "    image_np = np.array(image)\n",
    "\n",
    "    kernel = gaussian_kernel(block_size, std=std)\n",
    "    # print(f\"kernel={kernel}\")\n",
    "\n",
    "    image_convolved_np = scipy.signal.convolve2d(image_np, kernel, mode='same', boundary='symm')\n",
    "    image_result_np = image_convolved_np - image_np - C\n",
    "    # print(image_result_np)\n",
    "\n",
    "    # Set pixels with value less than 0 to 0, otherwise set it to 255\n",
    "    image_result_np = np.where(image_result_np > 0, 0, 1)\n",
    "    image_result = Image.fromarray((image_result_np * 255).astype(np.uint8))\n",
    "    return image_result\n",
    "\n",
    "\n",
    "# https://www.mathworks.com/matlabcentral/fileexchange/8647-local-adaptive-thresholding\n",
    "def adaptive_mean_thresholding_in(image, max_value=255, block_size=7, C=0):\n",
    "    # Image must be in grayscale\n",
    "    image_np = np.array(image)\n",
    "\n",
    "    kernel = np.ones((block_size, block_size)) / (block_size ** 2)\n",
    "    image_convolved_np = scipy.signal.convolve2d(image_np, kernel, mode='same', boundary='symm')\n",
    "    image_result_np = image_convolved_np - image_np - C\n",
    "\n",
    "    # Set pixels with value less than 0 to 0, otherwise set it to 255\n",
    "    image_result_np = np.where(image_result_np > 0, 0, 1)\n",
    "    image_result = Image.fromarray((image_result_np * 255).astype(np.uint8))\n",
    "\n",
    "    return image_result\n"
   ]
  },
  {
   "cell_type": "code",
   "execution_count": 125,
   "metadata": {},
   "outputs": [
    {
     "name": "stdout",
     "output_type": "stream",
     "text": [
      "[[0.07511361 0.1238414  0.07511361]\n",
      " [0.1238414  0.20417996 0.1238414 ]\n",
      " [0.07511361 0.1238414  0.07511361]]\n"
     ]
    }
   ],
   "source": [
    "print(gaussian_kernel(3,1))"
   ]
  },
  {
   "cell_type": "markdown",
   "metadata": {
    "pycharm": {
     "name": "#%% md\n"
    }
   },
   "source": [
    "# Adaptive Gaussian"
   ]
  },
  {
   "cell_type": "code",
   "execution_count": 126,
   "metadata": {
    "pycharm": {
     "name": "#%%\n"
    }
   },
   "outputs": [
    {
     "name": "stdout",
     "output_type": "stream",
     "text": [
      "appropriate. to.\n",
      "“.that.they may | be invited\n",
      "\n",
      " \n",
      "\f",
      "\n",
      "Adaptive gaussian:\n",
      "0.01423\n",
      "2) And for your Lipa, sensual and Anet\n",
      "© hirderan Craya fainid nie\n",
      "\n",
      " \n",
      "\n",
      "I might bave fixed ahem with hincks here or there: Tt\n",
      "But. when filters took epaztdle from your eyes\n",
      "\n",
      " \n",
      "\f",
      "\n",
      "Adaptive gaussian:\n",
      "0.05192\n"
     ]
    }
   ],
   "source": [
    "for idx, image_name in enumerate(images):\n",
    "    image = Image.open(os.path.join(image_folder, image_name))\n",
    "    # print(image.format, image.mode)\n",
    "    image = image.convert(\"RGB\")\n",
    "\n",
    "    with open(os.path.join(text_folder, texts[idx]), 'r') as f:\n",
    "            base_text = f.readlines()\n",
    "            base_text = \"\".join(base_text)\n",
    "            # base_text = [line.strip() for line in base_text]\n",
    "\n",
    "    image_adaptive_gaussian = adaptive_gaussian_tresholding(image)\n",
    "    # image_adaptive_gaussian.show()\n",
    "    result_adaptive_gaussian = pytesseract.image_to_string(image_adaptive_gaussian)\n",
    "    print(result_adaptive_gaussian)\n",
    "\n",
    "    print(\"Adaptive gaussian:\")\n",
    "    evaluate(result_adaptive_gaussian, base_text)"
   ]
  },
  {
   "cell_type": "markdown",
   "metadata": {},
   "source": [
    "### Self implementation of Adaptive Gaussian thresholding"
   ]
  },
  {
   "cell_type": "code",
   "execution_count": 128,
   "metadata": {},
   "outputs": [
    {
     "name": "stdout",
     "output_type": "stream",
     "text": [
      "kernel=[[0.00034388 0.00063359 0.00104462 0.00154117 0.00203464 0.00240364\n",
      "  0.00254095 0.00240364 0.00203464 0.00154117 0.00104462 0.00063359\n",
      "  0.00034388]\n",
      " [0.00063359 0.00116738 0.00192468 0.00283956 0.00374877 0.00442865\n",
      "  0.00468165 0.00442865 0.00374877 0.00283956 0.00192468 0.00116738\n",
      "  0.00063359]\n",
      " [0.00104462 0.00192468 0.00317327 0.00468165 0.00618068 0.00730161\n",
      "  0.00771874 0.00730161 0.00618068 0.00468165 0.00317327 0.00192468\n",
      "  0.00104462]\n",
      " [0.00154117 0.00283956 0.00468165 0.00690703 0.00911861 0.01077237\n",
      "  0.01138777 0.01077237 0.00911861 0.00690703 0.00468165 0.00283956\n",
      "  0.00154117]\n",
      " [0.00203464 0.00374877 0.00618068 0.00911861 0.01203832 0.0142216\n",
      "  0.01503405 0.0142216  0.01203832 0.00911861 0.00618068 0.00374877\n",
      "  0.00203464]\n",
      " [0.00240364 0.00442865 0.00730161 0.01077237 0.0142216  0.01680083\n",
      "  0.01776063 0.01680083 0.0142216  0.01077237 0.00730161 0.00442865\n",
      "  0.00240364]\n",
      " [0.00254095 0.00468165 0.00771874 0.01138777 0.01503405 0.01776063\n",
      "  0.01877525 0.01776063 0.01503405 0.01138777 0.00771874 0.00468165\n",
      "  0.00254095]\n",
      " [0.00240364 0.00442865 0.00730161 0.01077237 0.0142216  0.01680083\n",
      "  0.01776063 0.01680083 0.0142216  0.01077237 0.00730161 0.00442865\n",
      "  0.00240364]\n",
      " [0.00203464 0.00374877 0.00618068 0.00911861 0.01203832 0.0142216\n",
      "  0.01503405 0.0142216  0.01203832 0.00911861 0.00618068 0.00374877\n",
      "  0.00203464]\n",
      " [0.00154117 0.00283956 0.00468165 0.00690703 0.00911861 0.01077237\n",
      "  0.01138777 0.01077237 0.00911861 0.00690703 0.00468165 0.00283956\n",
      "  0.00154117]\n",
      " [0.00104462 0.00192468 0.00317327 0.00468165 0.00618068 0.00730161\n",
      "  0.00771874 0.00730161 0.00618068 0.00468165 0.00317327 0.00192468\n",
      "  0.00104462]\n",
      " [0.00063359 0.00116738 0.00192468 0.00283956 0.00374877 0.00442865\n",
      "  0.00468165 0.00442865 0.00374877 0.00283956 0.00192468 0.00116738\n",
      "  0.00063359]\n",
      " [0.00034388 0.00063359 0.00104462 0.00154117 0.00203464 0.00240364\n",
      "  0.00254095 0.00240364 0.00203464 0.00154117 0.00104462 0.00063359\n",
      "  0.00034388]]\n",
      "[[ -7.15864418 -10.16443201  -9.16693109 ...  -9.98315622  -6.87975604\n",
      "   -8.82726153]\n",
      " [ -8.17138118  -8.17682573  -8.17998818 ...  -7.98593211  -4.87431883\n",
      "   -7.8201098 ]\n",
      " [ -8.18246058  -8.18478406  -7.18545945 ...  -9.00187545  -7.88555413\n",
      "   -7.83393654]\n",
      " ...\n",
      " [ -4.95357067  -5.89712306  -6.8049557  ...  -6.28775072  -8.26743977\n",
      "  -10.25801042]\n",
      " [ -7.09802293  -9.03659302  -7.93380511 ...  -7.30006126  -6.25979502\n",
      "   -7.23698022]\n",
      " [-10.17102361  -8.10774347  -5.99989309 ...  -7.31622079  -9.27036105\n",
      "  -10.24350792]]\n",
      "0.99031\n",
      "kernel=[[0.00034388 0.00063359 0.00104462 0.00154117 0.00203464 0.00240364\n",
      "  0.00254095 0.00240364 0.00203464 0.00154117 0.00104462 0.00063359\n",
      "  0.00034388]\n",
      " [0.00063359 0.00116738 0.00192468 0.00283956 0.00374877 0.00442865\n",
      "  0.00468165 0.00442865 0.00374877 0.00283956 0.00192468 0.00116738\n",
      "  0.00063359]\n",
      " [0.00104462 0.00192468 0.00317327 0.00468165 0.00618068 0.00730161\n",
      "  0.00771874 0.00730161 0.00618068 0.00468165 0.00317327 0.00192468\n",
      "  0.00104462]\n",
      " [0.00154117 0.00283956 0.00468165 0.00690703 0.00911861 0.01077237\n",
      "  0.01138777 0.01077237 0.00911861 0.00690703 0.00468165 0.00283956\n",
      "  0.00154117]\n",
      " [0.00203464 0.00374877 0.00618068 0.00911861 0.01203832 0.0142216\n",
      "  0.01503405 0.0142216  0.01203832 0.00911861 0.00618068 0.00374877\n",
      "  0.00203464]\n",
      " [0.00240364 0.00442865 0.00730161 0.01077237 0.0142216  0.01680083\n",
      "  0.01776063 0.01680083 0.0142216  0.01077237 0.00730161 0.00442865\n",
      "  0.00240364]\n",
      " [0.00254095 0.00468165 0.00771874 0.01138777 0.01503405 0.01776063\n",
      "  0.01877525 0.01776063 0.01503405 0.01138777 0.00771874 0.00468165\n",
      "  0.00254095]\n",
      " [0.00240364 0.00442865 0.00730161 0.01077237 0.0142216  0.01680083\n",
      "  0.01776063 0.01680083 0.0142216  0.01077237 0.00730161 0.00442865\n",
      "  0.00240364]\n",
      " [0.00203464 0.00374877 0.00618068 0.00911861 0.01203832 0.0142216\n",
      "  0.01503405 0.0142216  0.01203832 0.00911861 0.00618068 0.00374877\n",
      "  0.00203464]\n",
      " [0.00154117 0.00283956 0.00468165 0.00690703 0.00911861 0.01077237\n",
      "  0.01138777 0.01077237 0.00911861 0.00690703 0.00468165 0.00283956\n",
      "  0.00154117]\n",
      " [0.00104462 0.00192468 0.00317327 0.00468165 0.00618068 0.00730161\n",
      "  0.00771874 0.00730161 0.00618068 0.00468165 0.00317327 0.00192468\n",
      "  0.00104462]\n",
      " [0.00063359 0.00116738 0.00192468 0.00283956 0.00374877 0.00442865\n",
      "  0.00468165 0.00442865 0.00374877 0.00283956 0.00192468 0.00116738\n",
      "  0.00063359]\n",
      " [0.00034388 0.00063359 0.00104462 0.00154117 0.00203464 0.00240364\n",
      "  0.00254095 0.00240364 0.00203464 0.00154117 0.00104462 0.00063359\n",
      "  0.00034388]]\n",
      "[[-5.83894469 -7.66680809 -7.36142539 ... -7.25233574 -7.34826407\n",
      "  -7.39690873]\n",
      " [-5.77292271 -7.60847505 -7.31656166 ... -7.24870121 -7.33792432\n",
      "  -7.3845121 ]\n",
      " [-7.63842115 -7.48750586 -7.21944658 ... -7.22476864 -9.30138128\n",
      "  -9.34323179]\n",
      " ...\n",
      " [-8.05377594 -8.05549054 -8.05713954 ... -7.5965956  -7.68441108\n",
      "  -7.74576368]\n",
      " [-8.06674654 -8.06887469 -8.07092142 ... -7.73670692 -7.81453008\n",
      "  -7.87258538]\n",
      " [-8.07436096 -8.0767319  -8.07901211 ... -5.82192714 -5.89465086\n",
      "  -5.95106774]]\n",
      "0.10428\n"
     ]
    }
   ],
   "source": [
    "for idx, image_name in enumerate(images):\n",
    "    image = Image.open(os.path.join(image_folder, image_name))\n",
    "    # print(image.format, image.mode)\n",
    "    image = image.convert(\"L\")\n",
    "\n",
    "    with open(os.path.join(text_folder, texts[idx]), 'r') as f:\n",
    "            base_text = f.readlines()\n",
    "            base_text = \"\".join(base_text)\n",
    "            # base_text = [line.strip() for line in base_text]\n",
    "\n",
    "    image_th = adaptive_gaussian_thresholding_in(image, block_size=13, std=3, C=8)\n",
    "    image_th.show()\n",
    "    result_th = pytesseract.image_to_string(image_th)\n",
    "    \n",
    "\n",
    "    evaluate(result_th, base_text)"
   ]
  },
  {
   "cell_type": "code",
   "execution_count": 10,
   "metadata": {
    "pycharm": {
     "name": "#%%\n"
    }
   },
   "outputs": [],
   "source": [
    "def apply_gaussian_blur(image_pil, kernel_size=(5, 5)):\n",
    "    img_cv = cv.cvtColor(numpy.array(image_pil), cv.COLOR_RGB2BGR)\n",
    "    img_blur = cv.GaussianBlur(img_cv, kernel_size, 0)\n",
    "    img_cv_rgb = cv.cvtColor(img_blur, cv.COLOR_BGR2RGB)\n",
    "    img_pil = Image.fromarray(img_cv_rgb)\n",
    "    return img_pil\n"
   ]
  },
  {
   "cell_type": "markdown",
   "metadata": {
    "pycharm": {
     "name": "#%% md\n"
    }
   },
   "source": [
    "# Gaussian Blur + Adaptive Gaussian Thresholding"
   ]
  },
  {
   "cell_type": "code",
   "execution_count": 11,
   "metadata": {
    "pycharm": {
     "name": "#%%\n"
    }
   },
   "outputs": [
    {
     "name": "stdout",
     "output_type": "stream",
     "text": [
      "Gaussian blur (3,3) + Adaptive gaussian for sample01.png score: 0.00000\n",
      "Gaussian blur (3,3) + Adaptive gaussian for sample02.png score: 0.35653\n",
      "Gaussian blur (5,5) + Adaptive gaussian for sample01.png score: 0.87978\n",
      "Gaussian blur (5,5) + Adaptive gaussian for sample02.png score: 0.46845\n",
      "Gaussian blur (7,7) + Adaptive gaussian for sample01.png score: 0.92692\n",
      "Gaussian blur (7,7) + Adaptive gaussian for sample02.png score: 0.20173\n",
      "Gaussian blur (9,9) + Adaptive gaussian for sample01.png score: 0.46169\n",
      "Gaussian blur (9,9) + Adaptive gaussian for sample02.png score: 0.14229\n"
     ]
    }
   ],
   "source": [
    "for kernel_size in range(3,11,2):\n",
    "    for idx, image_name in enumerate(images):\n",
    "        image = Image.open(os.path.join(image_folder, image_name))\n",
    "        # print(image.format, image.mode)\n",
    "        image = image.convert(\"RGB\")\n",
    "\n",
    "        with open(os.path.join(text_folder, texts[idx]), 'r') as f:\n",
    "                base_text = f.readlines()\n",
    "                base_text = \"\".join(base_text)\n",
    "                # base_text = [line.strip() for line in base_text]\n",
    "\n",
    "        image_gaussian_blur = apply_gaussian_blur(image,(kernel_size, kernel_size))\n",
    "        image_adaptive_gaussian = adaptive_gaussian_tresholding(image_gaussian_blur)\n",
    "        # image_adaptive_gaussian.show()\n",
    "        result_adaptive_gaussian = pytesseract.image_to_string(image_adaptive_gaussian)\n",
    "        score = evaluate(result_adaptive_gaussian, base_text, print_score=False)\n",
    "        print(f\"Gaussian blur ({kernel_size},{kernel_size}) + Adaptive gaussian for {image_name} score: {score:.5f}\")\n"
   ]
  },
  {
   "cell_type": "code",
   "execution_count": 63,
   "metadata": {
    "pycharm": {
     "name": "#%%\n"
    }
   },
   "outputs": [
    {
     "name": "stdout",
     "output_type": "stream",
     "text": [
      "Gaussian blur (5,5) + Adaptive gaussian for sample01.png score: 0.87978\n",
      " \n",
      "\n",
      "Parking: You may park anywhere on the campus where there are no ‘signs prohibiting par\n",
      "king. Keep in mind the carpool hours and park accordingly so you do not get blocked In the ©\n",
      ". afternoon te tet get eae ULL ese Soy\n",
      "\n",
      " \n",
      "\n",
      "    \n",
      "\n",
      "Under School Age Children:While we love the younger children, it can be disruptive and\n",
      "inappropriate to have them on campus during ‘school hours.. There may be special times .:.\n",
      "that they may be invited or can accompany a parent volunteer, but otherwise we ask that -\n",
      "you adhere to our policy for the benefit of the students and staff; 0. - eet\n",
      "\n",
      " \n",
      "\n",
      "   \n",
      "\f",
      "\n",
      "Gaussian blur (5,5) + Adaptive gaussian for sample02.png score: 0.46845\n",
      "Sonnet for Lena\n",
      "\n",
      "O dear Lena, your beatty fa sa vast\n",
      "\n",
      "Tels hard sometiines to describe [t fant.\n",
      "\n",
      "I thought the entire world [ would impress\n",
      "If only your portrait [ could compress.\n",
      "\n",
      "Alas! First when I tried to tise VQ\n",
      "\n",
      "1 found that your checks belong te only you.\n",
      "Your silky hair contains n thousand lines\n",
      "Hard to match with sums of discrete cosines,\n",
      "And for your lips, sensual and tactual\n",
      "Thirteen Cray found not the proper fractal,\n",
      "And while these setbacks are all quite severe\n",
      "Limight have fixed thein with hacks here or there\n",
      "Bat whe filters took sparkle from your eyes\n",
      "Taaid, ‘Damn all this, PM just digitize.”\n",
      "\n",
      "Thowsas Colthurat\n",
      "\f",
      "\n",
      "Gaussian blur (7,7) + Adaptive gaussian for sample01.png score: 0.92692\n",
      "Parking: You may park anywhere on the campus where there are no signs prohibiting par-\n",
      "king. Keep In mind the carpool hours and park accordingly so you do not get blocked in the\n",
      "afternoon : my bees\n",
      "\n",
      "Under School Age Children While we love the younger children, it can be disruptive and\n",
      "inappropriate to have them on campus during school hours. There may be special times.\n",
      "that they may be invited of can accompany a parent volunteer, but otherwise we ask that\n",
      "you adhere toour policy for the benefit of the students and staff.\n",
      "\f",
      "\n",
      "Gaussian blur (7,7) + Adaptive gaussian for sample02.png score: 0.20173\n",
      "Sonnet for Lena\n",
      "\n",
      "O dear Lena, your beanty bs so vast\n",
      "\n",
      "Te Is hard sumnetines to ulescribe It Laat.\n",
      "\n",
      "I thought the entire work! | woukd imprear\n",
      "If only your portrait [ coukl compress.\n",
      "\n",
      "Alas! First when [tried to use VQ\n",
      "\n",
      "[found that yuur cheeks belong to only you,\n",
      "Your silky hair contains a thousand lines\n",
      "Hard to match with autne of discrete cosines,\n",
      "And for your lips, sensual and tactual\n",
      "Thirteen Crays found not the proper fractal.\n",
      "Atel while these scthocks are all quite severe\n",
      "Tinight have fixed them with hacks here of Ghete\n",
      "But when filters look aparkle from your eyes\n",
      "Paaid, Damn all this, PU fust digitize.”\n",
      "\n",
      "Thovins Coltharet\n",
      "\f",
      "\n"
     ]
    }
   ],
   "source": [
    "for kernel_size in range(5,8,2):\n",
    "    for idx, image_name in enumerate(images):\n",
    "        image = Image.open(os.path.join(image_folder, image_name))\n",
    "        # print(image.format, image.mode)\n",
    "        image = image.convert(\"RGB\")\n",
    "\n",
    "        with open(os.path.join(text_folder, texts[idx]), 'r') as f:\n",
    "                base_text = f.readlines()\n",
    "                base_text = \"\".join(base_text)\n",
    "                # base_text = [line.strip() for line in base_text]\n",
    "\n",
    "        image_gaussian_blur = apply_gaussian_blur(image,(kernel_size, kernel_size))\n",
    "        image_adaptive_gaussian = adaptive_gaussian_tresholding(image_gaussian_blur)\n",
    "        image_adaptive_gaussian.show()\n",
    "        result_adaptive_gaussian = pytesseract.image_to_string(image_adaptive_gaussian)\n",
    "        score = evaluate(result_adaptive_gaussian, base_text, print_score=False)\n",
    "        print(f\"Gaussian blur ({kernel_size},{kernel_size}) + Adaptive gaussian for {image_name} score: {score:.5f}\")\n",
    "        print(result_adaptive_gaussian)"
   ]
  },
  {
   "cell_type": "code",
   "execution_count": 67,
   "metadata": {
    "pycharm": {
     "name": "#%%\n"
    }
   },
   "outputs": [],
   "source": [
    "def bilateral_filter(image_pil, d=9, sigma_color=100, sigma_space=100):\n",
    "    img_cv = cv.cvtColor(numpy.array(image_pil), cv.COLOR_RGB2BGR)\n",
    "    img_blur = cv.bilateralFilter(img_cv, d=d, sigmaColor=sigma_color, sigmaSpace=sigma_space)\n",
    "    img_cv_rgb = cv.cvtColor(img_blur, cv.COLOR_BGR2RGB)\n",
    "    img_pil = Image.fromarray(img_cv_rgb)\n",
    "    return img_pil"
   ]
  },
  {
   "cell_type": "markdown",
   "metadata": {},
   "source": [
    "# Bilateral Filter + Adaptive Gaussian Thresholding\n"
   ]
  },
  {
   "cell_type": "code",
   "execution_count": 74,
   "metadata": {
    "pycharm": {
     "name": "#%%\n"
    }
   },
   "outputs": [
    {
     "name": "stdout",
     "output_type": "stream",
     "text": [
      "Bilateral Filter d=5 sigma=50 with ADT for sample01.png score: 0.58845\n",
      "Bilateral Filter d=5 sigma=50 with ADT for sample02.png score: 0.08819\n",
      "Bilateral Filter d=5 sigma=100 with ADT for sample01.png score: 0.56747\n",
      "Bilateral Filter d=5 sigma=100 with ADT for sample02.png score: 0.34597\n",
      "Bilateral Filter d=5 sigma=150 with ADT for sample01.png score: 0.56825\n",
      "Bilateral Filter d=5 sigma=150 with ADT for sample02.png score: 0.26224\n",
      "Bilateral Filter d=5 sigma=200 with ADT for sample01.png score: 0.51197\n",
      "Bilateral Filter d=5 sigma=200 with ADT for sample02.png score: 0.27738\n",
      "Bilateral Filter d=7 sigma=50 with ADT for sample01.png score: 0.98651\n",
      "Bilateral Filter d=7 sigma=50 with ADT for sample02.png score: 0.31445\n",
      "Bilateral Filter d=7 sigma=100 with ADT for sample01.png score: 0.98554\n",
      "Bilateral Filter d=7 sigma=100 with ADT for sample02.png score: 0.27208\n",
      "Bilateral Filter d=7 sigma=150 with ADT for sample01.png score: 0.78454\n",
      "Bilateral Filter d=7 sigma=150 with ADT for sample02.png score: 0.21514\n",
      "Bilateral Filter d=7 sigma=200 with ADT for sample01.png score: 0.24806\n",
      "Bilateral Filter d=7 sigma=200 with ADT for sample02.png score: 0.09373\n",
      "Bilateral Filter d=9 sigma=50 with ADT for sample01.png score: 0.99225\n",
      "Bilateral Filter d=9 sigma=50 with ADT for sample02.png score: 0.26038\n",
      "Bilateral Filter d=9 sigma=100 with ADT for sample01.png score: 0.98643\n",
      "Bilateral Filter d=9 sigma=100 with ADT for sample02.png score: 0.09184\n",
      "Bilateral Filter d=9 sigma=150 with ADT for sample01.png score: 0.86940\n",
      "Bilateral Filter d=9 sigma=150 with ADT for sample02.png score: 0.05864\n",
      "Bilateral Filter d=9 sigma=200 with ADT for sample01.png score: 0.69676\n",
      "Bilateral Filter d=9 sigma=200 with ADT for sample02.png score: 0.08293\n",
      "Bilateral Filter d=11 sigma=50 with ADT for sample01.png score: 0.99225\n",
      "Bilateral Filter d=11 sigma=50 with ADT for sample02.png score: 0.09680\n",
      "Bilateral Filter d=11 sigma=100 with ADT for sample01.png score: 0.56977\n",
      "Bilateral Filter d=11 sigma=100 with ADT for sample02.png score: 0.10183\n",
      "Bilateral Filter d=11 sigma=150 with ADT for sample01.png score: 0.84961\n",
      "Bilateral Filter d=11 sigma=150 with ADT for sample02.png score: 0.03531\n",
      "Bilateral Filter d=11 sigma=200 with ADT for sample01.png score: 0.67780\n",
      "Bilateral Filter d=11 sigma=200 with ADT for sample02.png score: 0.04430\n"
     ]
    }
   ],
   "source": [
    "for d in range(5,12,2):\n",
    "    for sigma in range(50,210,50):\n",
    "        for idx, image_name in enumerate(images):\n",
    "            image = Image.open(os.path.join(image_folder, image_name))\n",
    "            # print(image.format, image.mode)\n",
    "            image = image.convert(\"RGB\")\n",
    "\n",
    "            with open(os.path.join(text_folder, texts[idx]), 'r') as f:\n",
    "                    base_text = f.readlines()\n",
    "                    base_text = \"\".join(base_text)\n",
    "                    # base_text = [line.strip() for line in base_text]\n",
    "\n",
    "            image_bilateral_filter = bilateral_filter(image,d=d, sigma_color=sigma, sigma_space=sigma)\n",
    "            image_adaptive_gaussian = adaptive_gaussian_tresholding(image_bilateral_filter)\n",
    "            # image_adaptive_gaussian.show()\n",
    "            result_adaptive_gaussian = pytesseract.image_to_string(image_adaptive_gaussian)\n",
    "            score = evaluate(result_adaptive_gaussian, base_text, print_score=False)\n",
    "            print(f\"Bilateral Filter d={d} sigma={sigma} with AGT for {image_name} score: {score:.5f}\")\n",
    "            # print(result_adaptive_gaussian)"
   ]
  },
  {
   "cell_type": "code",
   "execution_count": 79,
   "metadata": {
    "pycharm": {
     "name": "#%%\n"
    }
   },
   "outputs": [
    {
     "name": "stdout",
     "output_type": "stream",
     "text": [
      "Bilateral Filter d=3 sigma=10 with AGT for sample02.png score: 0.03360\n",
      "Bilateral Filter d=3 sigma=20 with AGT for sample02.png score: 0.01860\n",
      "Bilateral Filter d=3 sigma=30 with AGT for sample02.png score: 0.09091\n",
      "Bilateral Filter d=3 sigma=40 with AGT for sample02.png score: 0.05786\n",
      "Bilateral Filter d=3 sigma=50 with AGT for sample02.png score: 0.05901\n",
      "Bilateral Filter d=3 sigma=60 with AGT for sample02.png score: 0.05919\n",
      "Bilateral Filter d=3 sigma=70 with AGT for sample02.png score: 0.18182\n",
      "Bilateral Filter d=3 sigma=80 with AGT for sample02.png score: 0.04219\n",
      "Bilateral Filter d=3 sigma=90 with AGT for sample02.png score: 0.42155\n",
      "Bilateral Filter d=3 sigma=100 with AGT for sample02.png score: 0.03897\n",
      "Bilateral Filter d=3 sigma=110 with AGT for sample02.png score: 0.04514\n",
      "Bilateral Filter d=3 sigma=120 with AGT for sample02.png score: 0.32682\n",
      "Bilateral Filter d=3 sigma=130 with AGT for sample02.png score: 0.33437\n",
      "Bilateral Filter d=3 sigma=140 with AGT for sample02.png score: 0.32631\n",
      "Bilateral Filter d=3 sigma=150 with AGT for sample02.png score: 0.19828\n",
      "Bilateral Filter d=4 sigma=10 with AGT for sample02.png score: 0.05665\n",
      "Bilateral Filter d=4 sigma=20 with AGT for sample02.png score: 0.07723\n",
      "Bilateral Filter d=4 sigma=30 with AGT for sample02.png score: 0.26908\n",
      "Bilateral Filter d=4 sigma=40 with AGT for sample02.png score: 0.10892\n",
      "Bilateral Filter d=4 sigma=50 with AGT for sample02.png score: 0.08819\n",
      "Bilateral Filter d=4 sigma=60 with AGT for sample02.png score: 0.09170\n",
      "Bilateral Filter d=4 sigma=70 with AGT for sample02.png score: 0.39528\n",
      "Bilateral Filter d=4 sigma=80 with AGT for sample02.png score: 0.40379\n",
      "Bilateral Filter d=4 sigma=90 with AGT for sample02.png score: 0.33727\n",
      "Bilateral Filter d=4 sigma=100 with AGT for sample02.png score: 0.34597\n",
      "Bilateral Filter d=4 sigma=110 with AGT for sample02.png score: 0.36392\n",
      "Bilateral Filter d=4 sigma=120 with AGT for sample02.png score: 0.10585\n",
      "Bilateral Filter d=4 sigma=130 with AGT for sample02.png score: 0.25750\n",
      "Bilateral Filter d=4 sigma=140 with AGT for sample02.png score: 0.26582\n",
      "Bilateral Filter d=4 sigma=150 with AGT for sample02.png score: 0.26224\n",
      "Bilateral Filter d=5 sigma=10 with AGT for sample02.png score: 0.05665\n",
      "Bilateral Filter d=5 sigma=20 with AGT for sample02.png score: 0.07723\n",
      "Bilateral Filter d=5 sigma=30 with AGT for sample02.png score: 0.26908\n",
      "Bilateral Filter d=5 sigma=40 with AGT for sample02.png score: 0.10892\n",
      "Bilateral Filter d=5 sigma=50 with AGT for sample02.png score: 0.08819\n",
      "Bilateral Filter d=5 sigma=60 with AGT for sample02.png score: 0.09170\n",
      "Bilateral Filter d=5 sigma=70 with AGT for sample02.png score: 0.39528\n",
      "Bilateral Filter d=5 sigma=80 with AGT for sample02.png score: 0.40379\n",
      "Bilateral Filter d=5 sigma=90 with AGT for sample02.png score: 0.33727\n",
      "Bilateral Filter d=5 sigma=100 with AGT for sample02.png score: 0.34597\n",
      "Bilateral Filter d=5 sigma=110 with AGT for sample02.png score: 0.36392\n",
      "Bilateral Filter d=5 sigma=120 with AGT for sample02.png score: 0.10585\n",
      "Bilateral Filter d=5 sigma=130 with AGT for sample02.png score: 0.25750\n",
      "Bilateral Filter d=5 sigma=140 with AGT for sample02.png score: 0.26582\n",
      "Bilateral Filter d=5 sigma=150 with AGT for sample02.png score: 0.26224\n",
      "Bilateral Filter d=6 sigma=10 with AGT for sample02.png score: 0.07199\n",
      "Bilateral Filter d=6 sigma=20 with AGT for sample02.png score: 0.11345\n",
      "Bilateral Filter d=6 sigma=30 with AGT for sample02.png score: 0.19077\n",
      "Bilateral Filter d=6 sigma=40 with AGT for sample02.png score: 0.24006\n",
      "Bilateral Filter d=6 sigma=50 with AGT for sample02.png score: 0.31445\n",
      "Bilateral Filter d=6 sigma=60 with AGT for sample02.png score: 0.32569\n",
      "Bilateral Filter d=6 sigma=70 with AGT for sample02.png score: 0.34810\n",
      "Bilateral Filter d=6 sigma=80 with AGT for sample02.png score: 0.17619\n",
      "Bilateral Filter d=6 sigma=90 with AGT for sample02.png score: 0.19730\n",
      "Bilateral Filter d=6 sigma=100 with AGT for sample02.png score: 0.27208\n",
      "Bilateral Filter d=6 sigma=110 with AGT for sample02.png score: 0.31150\n",
      "Bilateral Filter d=6 sigma=120 with AGT for sample02.png score: 0.25238\n",
      "Bilateral Filter d=6 sigma=130 with AGT for sample02.png score: 0.21691\n",
      "Bilateral Filter d=6 sigma=140 with AGT for sample02.png score: 0.27157\n",
      "Bilateral Filter d=6 sigma=150 with AGT for sample02.png score: 0.21514\n"
     ]
    }
   ],
   "source": [
    "for d in range(3,7,1):\n",
    "    for sigma in range(10,160,10):\n",
    "        for idx, image_name in enumerate(images):\n",
    "            if image_name==\"sample01.png\":\n",
    "                continue\n",
    "            image = Image.open(os.path.join(image_folder, image_name))\n",
    "            # print(image.format, image.mode)\n",
    "            image = image.convert(\"RGB\")\n",
    "\n",
    "            with open(os.path.join(text_folder, texts[idx]), 'r') as f:\n",
    "                    base_text = f.readlines()\n",
    "                    base_text = \"\".join(base_text)\n",
    "                    # base_text = [line.strip() for line in base_text]\n",
    "\n",
    "            image_bilateral_filter = bilateral_filter(image,d=d, sigma_color=sigma, sigma_space=sigma)\n",
    "            image_adaptive_gaussian = adaptive_gaussian_tresholding(image_bilateral_filter)\n",
    "            # image_adaptive_gaussian.show()\n",
    "            result_adaptive_gaussian = pytesseract.image_to_string(image_adaptive_gaussian)\n",
    "            score = evaluate(result_adaptive_gaussian, base_text, print_score=False)\n",
    "            print(f\"Bilateral Filter d={d} sigma={sigma} with AGT for {image_name} score: {score:.5f}\")\n",
    "            # print(result_adaptive_gaussian)"
   ]
  },
  {
   "cell_type": "code",
   "execution_count": 81,
   "metadata": {
    "pycharm": {
     "name": "#%%\n"
    }
   },
   "outputs": [
    {
     "name": "stdout",
     "output_type": "stream",
     "text": [
      "Bilateral Filter d=9 sigma=100 with AGT for sample01.png score: 0.98643\n",
      "Parking: You may park anywhere on the campus where there are no signs prohibiting par-\n",
      "king. Keep in mind the carpool hours and park accordingly so you do not get blocked in the\n",
      "afternoon\n",
      "\n",
      "Under School Age Children:While we love the younger children, it can be disruptve and\n",
      "inappropriate to have them on campus during school hours. There may be special tenes\n",
      "that they may be invited or can accompany a parent volunteer, but otherwise we ask that\n",
      "you adhere to our —_ policy for the benefit of the students and staff.\n",
      "\f",
      "\n",
      "Bilateral Filter d=3 sigma=90 with AGT for sample02.png score: 0.42155\n",
      "é ‘Sonnet for Lena,\n",
      "\n",
      "° dear Lena, your  brcraily inao vot\n",
      "1 Is hard sometitnea to describe It fast.\n",
      "[thought the entire world | would impress\n",
      "\n",
      "~-L Ionly your portrait I could compress.\n",
      "\n",
      "_ Alns! Firat when T tried to use VQ\n",
      "\n",
      "_ Lfound that your cheeks belong to only you.\n",
      "Your silky hair contains m thonsand fines\n",
      "Hard ta match with sums of diserete cosines, |: *\n",
      "And for your lips, sensual and inctual .\n",
      "Thirteen: Crays found nel the proper fractal.\n",
      "And while these setbacks ore all quite severe\n",
      "Linlght love fixed them with lacks bere or there\n",
      "But when filters Look sparkle fro your eyes\n",
      "Vsaid, ‘Dounn oll this. 1'lt just i\n",
      "\n",
      " \n",
      "\n",
      "+ Thomas Calthurat\n",
      "\f",
      "\n"
     ]
    }
   ],
   "source": [
    "for idx, image_name in enumerate(images):\n",
    "    if image_name==\"sample01.png\":\n",
    "        d=9\n",
    "        sigma=100\n",
    "    else:\n",
    "        d=3\n",
    "        sigma=90\n",
    "    image = Image.open(os.path.join(image_folder, image_name))\n",
    "    # print(image.format, image.mode)\n",
    "    image = image.convert(\"RGB\")\n",
    "\n",
    "    with open(os.path.join(text_folder, texts[idx]), 'r') as f:\n",
    "            base_text = f.readlines()\n",
    "            base_text = \"\".join(base_text)\n",
    "            # base_text = [line.strip() for line in base_text]\n",
    "\n",
    "    image_bilateral_filter = bilateral_filter(image,d=d, sigma_color=sigma, sigma_space=sigma)\n",
    "    image_adaptive_gaussian = adaptive_gaussian_tresholding(image_bilateral_filter)\n",
    "    image_adaptive_gaussian.show()\n",
    "    result_adaptive_gaussian = pytesseract.image_to_string(image_adaptive_gaussian)\n",
    "    score = evaluate(result_adaptive_gaussian, base_text, print_score=False)\n",
    "    print(f\"Bilateral Filter d={d} sigma={sigma} with AGT for {image_name} score: {score:.5f}\")\n",
    "    print(result_adaptive_gaussian)"
   ]
  }
 ],
 "metadata": {
  "kernelspec": {
   "display_name": "Python 3",
   "language": "python",
   "name": "python3"
  },
  "language_info": {
   "codemirror_mode": {
    "name": "ipython",
    "version": 3
   },
   "file_extension": ".py",
   "mimetype": "text/x-python",
   "name": "python",
   "nbconvert_exporter": "python",
   "pygments_lexer": "ipython3",
   "version": "3.6.9"
  }
 },
 "nbformat": 4,
 "nbformat_minor": 1
}
